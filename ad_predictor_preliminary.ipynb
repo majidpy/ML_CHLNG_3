{
 "cells": [
  {
   "cell_type": "markdown",
   "metadata": {},
   "source": [
    "### importing libraries"
   ]
  },
  {
   "cell_type": "code",
   "execution_count": 187,
   "metadata": {
    "collapsed": false
   },
   "outputs": [],
   "source": [
    "import pandas as pd\n",
    "import numpy as np\n",
    "import datetime as dt\n",
    "import sklearn\n",
    "from sklearn.model_selection  import train_test_split\n",
    "from sklearn.naive_bayes import GaussianNB\n",
    "from sklearn import preprocessing"
   ]
  },
  {
   "cell_type": "markdown",
   "metadata": {},
   "source": [
    "### reading data and dropping NANs"
   ]
  },
  {
   "cell_type": "code",
   "execution_count": 89,
   "metadata": {
    "collapsed": true
   },
   "outputs": [],
   "source": [
    "raw_data = pd.read_csv('data/train.csv')\n",
    "raw_data.dropna(inplace=True)"
   ]
  },
  {
   "cell_type": "markdown",
   "metadata": {},
   "source": [
    "### some data treatments, Will use Moji's module later"
   ]
  },
  {
   "cell_type": "code",
   "execution_count": 96,
   "metadata": {
    "collapsed": false
   },
   "outputs": [],
   "source": [
    "raw_data['browserid']= raw_data['browserid'].replace(to_replace=['Mozilla Firefox', 'Mozilla'], value='Firefox')\n",
    "raw_data['browserid']= raw_data['browserid'].replace(to_replace=['Google Chrome'], value='Chrome')\n",
    "raw_data['browserid']= raw_data['browserid'].replace(to_replace=['InternetExplorer', 'Internet Explorer'], value='IE')"
   ]
  },
  {
   "cell_type": "code",
   "execution_count": 155,
   "metadata": {
    "collapsed": false
   },
   "outputs": [],
   "source": [
    "raw_data['day']=pd.to_datetime(raw_data['datetime']).apply(lambda x: x.dayofweek)"
   ]
  },
  {
   "cell_type": "code",
   "execution_count": 157,
   "metadata": {
    "collapsed": true
   },
   "outputs": [],
   "source": [
    "raw_data['hour']=pd.to_datetime(raw_data['datetime']).apply(lambda x: x.hour)"
   ]
  },
  {
   "cell_type": "code",
   "execution_count": 193,
   "metadata": {
    "collapsed": false
   },
   "outputs": [],
   "source": [
    "le_country = preprocessing.LabelEncoder()\n",
    "le_country.fit(raw_data['countrycode'])\n",
    "raw_data['countrycode_le'] = le_country.transform(raw_data['countrycode'])"
   ]
  },
  {
   "cell_type": "code",
   "execution_count": 195,
   "metadata": {
    "collapsed": true
   },
   "outputs": [],
   "source": [
    "le_brows = preprocessing.LabelEncoder()\n",
    "le_brows.fit(raw_data['browserid'])\n",
    "raw_data['browserid_le'] = le_brows.transform(raw_data['browserid'])"
   ]
  },
  {
   "cell_type": "code",
   "execution_count": 196,
   "metadata": {
    "collapsed": true
   },
   "outputs": [],
   "source": [
    "le_dev = preprocessing.LabelEncoder()\n",
    "le_dev.fit(raw_data['devid'])\n",
    "raw_data['devid_le'] = le_dev.transform(raw_data['devid'])"
   ]
  },
  {
   "cell_type": "code",
   "execution_count": 197,
   "metadata": {
    "collapsed": false
   },
   "outputs": [],
   "source": [
    "X = np.c_[raw_data['siteid'].values, raw_data['offerid'].values, raw_data['category'].values,\n",
    "                raw_data['merchant'].values, raw_data['countrycode_le'].values, raw_data['browserid_le'].values,\n",
    "                raw_data['devid_le'].values, raw_data['day'].values, raw_data['hour'].values]\n",
    "\n",
    "y_= raw_data['click'].values"
   ]
  },
  {
   "cell_type": "code",
   "execution_count": 198,
   "metadata": {
    "collapsed": false
   },
   "outputs": [],
   "source": [
    "X_train, X_test, y_train, y_test = train_test_split(X, y_, test_size=0.2)"
   ]
  },
  {
   "cell_type": "code",
   "execution_count": 199,
   "metadata": {
    "collapsed": false
   },
   "outputs": [],
   "source": [
    "gnb = GaussianNB()\n",
    "gnb_model = gnb.fit(X_train, y_train)"
   ]
  },
  {
   "cell_type": "code",
   "execution_count": 203,
   "metadata": {
    "collapsed": false
   },
   "outputs": [
    {
     "name": "stdout",
     "output_type": "stream",
     "text": [
      "predicted score on the cross validation set is 96.4051933801237%\n"
     ]
    }
   ],
   "source": [
    "pred_score = gnb_model.score(X_test, y_test)\n",
    "print('predicted score on the cross validation set is {}%'.format(pred_score*100))"
   ]
  },
  {
   "cell_type": "code",
   "execution_count": null,
   "metadata": {
    "collapsed": true
   },
   "outputs": [],
   "source": []
  },
  {
   "cell_type": "code",
   "execution_count": null,
   "metadata": {
    "collapsed": true
   },
   "outputs": [],
   "source": []
  },
  {
   "cell_type": "code",
   "execution_count": null,
   "metadata": {
    "collapsed": true
   },
   "outputs": [],
   "source": []
  },
  {
   "cell_type": "code",
   "execution_count": null,
   "metadata": {
    "collapsed": true
   },
   "outputs": [],
   "source": []
  },
  {
   "cell_type": "code",
   "execution_count": null,
   "metadata": {
    "collapsed": true
   },
   "outputs": [],
   "source": []
  },
  {
   "cell_type": "code",
   "execution_count": null,
   "metadata": {
    "collapsed": true
   },
   "outputs": [],
   "source": []
  },
  {
   "cell_type": "code",
   "execution_count": null,
   "metadata": {
    "collapsed": true
   },
   "outputs": [],
   "source": []
  },
  {
   "cell_type": "code",
   "execution_count": 75,
   "metadata": {
    "collapsed": false
   },
   "outputs": [
    {
     "name": "stdout",
     "output_type": "stream",
     "text": [
      "Min value of OfferID:  0 \n",
      " Max value of OfferID:  999998\n",
      "Numer of OfferID: 847510\n"
     ]
    }
   ],
   "source": [
    "orfid = np.array(raw_data['offerid'])\n",
    "print('Min value of OfferID: ', orfid.min(),'\\n', 'Max value of OfferID: ', orfid.max())\n",
    "print('Numer of OfferID:', np.unique(orfid).size)"
   ]
  }
 ],
 "metadata": {
  "kernelspec": {
   "display_name": "Python 3",
   "language": "python",
   "name": "python3"
  },
  "language_info": {
   "codemirror_mode": {
    "name": "ipython",
    "version": 3
   },
   "file_extension": ".py",
   "mimetype": "text/x-python",
   "name": "python",
   "nbconvert_exporter": "python",
   "pygments_lexer": "ipython3",
   "version": "3.6.0"
  }
 },
 "nbformat": 4,
 "nbformat_minor": 2
}
