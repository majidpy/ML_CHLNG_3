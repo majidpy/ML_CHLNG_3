{
 "cells": [
  {
   "cell_type": "code",
   "execution_count": 1,
   "metadata": {
    "collapsed": true
   },
   "outputs": [],
   "source": [
    "import pandas as pd\n",
    "from sklearn import preprocessing\n",
    "import numpy as np\n",
    "from sklearn.model_selection import train_test_split\n",
    "import pickle\n",
    "from sklearn.ensemble import RandomForestClassifier\n",
    "from sklearn import metrics\n",
    "import matplotlib.pyplot as plt\n",
    "import random"
   ]
  },
  {
   "cell_type": "code",
   "execution_count": 2,
   "metadata": {
    "collapsed": true
   },
   "outputs": [],
   "source": [
    "data_frame = pd.read_csv('data/train.csv')"
   ]
  },
  {
   "cell_type": "markdown",
   "metadata": {},
   "source": [
    "#### Data Cleaning"
   ]
  },
  {
   "cell_type": "code",
   "execution_count": 3,
   "metadata": {
    "collapsed": true
   },
   "outputs": [],
   "source": [
    "# drop ID column\n",
    "data_frame.drop(['ID'], axis=1, inplace=True)\n",
    "\n",
    "# there are 200k unique siteids and 850k unique offerid. \n",
    "# these are too many in a categorical classification.\n",
    "# So, I discard these two variables.\n",
    "data_frame.drop(['siteid', 'offerid'], axis=1, inplace=True)\n",
    "\n",
    "# make two columns for day and hour from datetime\n",
    "data_frame['day']=pd.to_datetime(data_frame['datetime']).apply(lambda x: x.dayofweek)\n",
    "data_frame['hour']=pd.to_datetime(data_frame['datetime']).apply(lambda x: x.hour)\n",
    "data_frame.drop('datetime', axis=1, inplace=True)\n",
    "\n",
    "# replacing duplicates\n",
    "data_frame['browserid'].replace(to_replace=['Mozilla Firefox', 'Mozilla'], \n",
    "  value='Firefox', inplace=True) # Firefox\n",
    "data_frame['browserid'].replace(to_replace=['Google Chrome'], \n",
    "  value='Chrome', inplace=True) # Chrome\n",
    "data_frame['browserid'].replace(to_replace=['InternetExplorer', 'Internet Explorer'], \n",
    "  value='IE', inplace=True) # IE"
   ]
  },
  {
   "cell_type": "code",
   "execution_count": 4,
   "metadata": {
    "collapsed": false
   },
   "outputs": [
    {
     "name": "stdout",
     "output_type": "stream",
     "text": [
      "Monday is 0\n",
      "Number of click on 0 is 41000\n",
      "Number of click on 1 is 81403\n",
      "Number of click on 2 is 81758\n",
      "Number of click on 3 is 74691\n",
      "Number of click on 4 is 75108\n",
      "Number of click on 5 is 46646\n",
      "Number of click on 6 is 36608\n"
     ]
    }
   ],
   "source": [
    "# which day had most clicks? Is it in the weekends? \n",
    "\n",
    "print('Monday is 0')\n",
    "for day in [0,1,2,3,4,5,6]:\n",
    "    count = data_frame.loc[(data_frame['click']==1) & (data_frame['day']==day)].shape[0]\n",
    "    print('Number of click on {} is {}'.format(day, count))"
   ]
  },
  {
   "cell_type": "code",
   "execution_count": 5,
   "metadata": {
    "collapsed": true
   },
   "outputs": [],
   "source": [
    "# weekdays have high click rate, so let's break if it's weekdays or weekend\n",
    "data_frame['weekdays']=data_frame['day'].apply(lambda x:1 if x<5 else 0)\n",
    "\n",
    "data_frame.drop('day', axis=1, inplace=True)"
   ]
  },
  {
   "cell_type": "code",
   "execution_count": 6,
   "metadata": {
    "collapsed": false
   },
   "outputs": [
    {
     "name": "stdout",
     "output_type": "stream",
     "text": [
      "Number of click at 0 is 8099\n",
      "Number of click at 1 is 4895\n",
      "Number of click at 2 is 3632\n",
      "Number of click at 3 is 3410\n",
      "Number of click at 4 is 2793\n",
      "Number of click at 5 is 3353\n",
      "Number of click at 6 is 6337\n",
      "Number of click at 7 is 15110\n",
      "Number of click at 8 is 19183\n",
      "Number of click at 9 is 23707\n",
      "Number of click at 10 is 32727\n",
      "Number of click at 11 is 28216\n",
      "Number of click at 12 is 27003\n",
      "Number of click at 13 is 27756\n",
      "Number of click at 14 is 27732\n",
      "Number of click at 15 is 27104\n",
      "Number of click at 16 is 28156\n",
      "Number of click at 17 is 29708\n",
      "Number of click at 18 is 23246\n",
      "Number of click at 19 is 21792\n",
      "Number of click at 20 is 21817\n",
      "Number of click at 21 is 22319\n",
      "Number of click at 22 is 17577\n",
      "Number of click at 23 is 11542\n"
     ]
    }
   ],
   "source": [
    "# which hours had most clicks? Is it in the mornings? evenings? \n",
    "\n",
    "for hour in range(24):\n",
    "    count = data_frame.loc[(data_frame['click']==1) & (data_frame['hour']==hour)].shape[0]\n",
    "    print('Number of click at {} is {}'.format(hour, count))"
   ]
  },
  {
   "cell_type": "code",
   "execution_count": 7,
   "metadata": {
    "collapsed": true
   },
   "outputs": [],
   "source": [
    "# Most clicks are between 9am - 9pm, so I make it binary\n",
    "\n",
    "data_frame['daytime']=data_frame['hour'].apply(lambda x:1 if 9<=x<=21 else 0)\n",
    "\n",
    "data_frame.drop('hour', axis=1, inplace=True)"
   ]
  },
  {
   "cell_type": "code",
   "execution_count": 8,
   "metadata": {
    "collapsed": false
   },
   "outputs": [],
   "source": [
    "# finding most frequenct value of each colum for each class\n",
    "# this is the first round of filling NAs. Filling based on the most frequent value for each class\n",
    "# This is a good starting point \n",
    "# remember to save indecies of nans before filling them\n",
    "\n",
    "class_click = data_frame[data_frame['click']==1]\n",
    "class_no_click = data_frame[data_frame['click']==0]\n",
    "fill_click_dic = {}    \n",
    "fill_no_click_dic = {}\n",
    "\n",
    "def replace_most_freq(col):   \n",
    "    \n",
    "    a = class_click[col].value_counts()\n",
    "    fill_click = a[a.values==a.values.max()].index[0]\n",
    "    \n",
    "    b = class_no_click[col].value_counts()\n",
    "    fill_no_click = b[b.values==b.values.max()].index[0]\n",
    "    \n",
    "    fill_click_dic[col] = fill_click\n",
    "    fill_no_click_dic[col] = fill_no_click\n",
    "    \n",
    "    # print('for class click most used value for {} is {}'.format(col, fill_click))\n",
    "    # print('for class no-click most used value for {} is {}'.format(col, fill_no_click))\n",
    "    \n",
    "    data_frame[data_frame['click']==1] = class_click.fillna(value=fill_click)\n",
    "    data_frame[data_frame['click']==0] = class_no_click.fillna(value=fill_no_click)\n",
    " \n",
    "\n",
    "# saving indecies with NAN value\n",
    "nans_index = {}\n",
    "def find_nans_index(col):\n",
    "    nans_index[col]=data_frame[pd.isnull(data_frame[col])==True].index\n",
    "\n",
    "    "
   ]
  },
  {
   "cell_type": "code",
   "execution_count": 9,
   "metadata": {
    "collapsed": false
   },
   "outputs": [],
   "source": [
    "columns = ['category' ,'merchant', 'countrycode', 'browserid', 'devid']\n",
    "for col in columns:\n",
    "    find_nans_index(col)\n",
    "    replace_most_freq(col)\n"
   ]
  },
  {
   "cell_type": "code",
   "execution_count": 10,
   "metadata": {
    "collapsed": true
   },
   "outputs": [],
   "source": [
    "# convert to binaries\n",
    "\n",
    "categorical_variables = ['countrycode', 'browserid', 'devid']\n",
    "\n",
    "for variable in categorical_variables:\n",
    "    dummies = pd.get_dummies(data_frame[variable], prefix=variable)\n",
    "    data_frame = pd.concat([data_frame, dummies], axis=1)\n",
    "    data_frame.drop([variable], axis=1, inplace=True)"
   ]
  },
  {
   "cell_type": "code",
   "execution_count": 11,
   "metadata": {
    "collapsed": false
   },
   "outputs": [
    {
     "data": {
      "text/plain": [
       "271"
      ]
     },
     "execution_count": 11,
     "metadata": {},
     "output_type": "execute_result"
    }
   ],
   "source": [
    "pd.unique(data_frame['category']).size"
   ]
  },
  {
   "cell_type": "code",
   "execution_count": 12,
   "metadata": {
    "collapsed": true
   },
   "outputs": [],
   "source": [
    "# let's plot occurence for each category:\n",
    "\n",
    "counts = data_frame['category'].value_counts()\n",
    "plot_pd = pd.Series(counts.values, index=counts.index)\n",
    "plot_pd.sort_values(inplace=True, ascending=False)\n",
    "#plt.subplots(figsize=(15,15))\n",
    "#plot_pd.plot(kind='bar', figsize=(10,10))\n",
    "#plt.show()"
   ]
  },
  {
   "cell_type": "code",
   "execution_count": null,
   "metadata": {
    "collapsed": true
   },
   "outputs": [],
   "source": []
  },
  {
   "cell_type": "code",
   "execution_count": 13,
   "metadata": {
    "collapsed": false
   },
   "outputs": [
    {
     "name": "stdout",
     "output_type": "stream",
     "text": [
      "46\n"
     ]
    }
   ],
   "source": [
    "# let's take only categories that constitute 70% of the entire table\n",
    "# this shows that of 271 categories 46 categories fill 70% of the table\n",
    "\n",
    "sum_ = 0\n",
    "i = 0\n",
    "while sum_<0.7*data_frame.shape[0]:\n",
    "    sum_ += plot_pd.values[i]\n",
    "    i += 1\n",
    "print(i)"
   ]
  },
  {
   "cell_type": "code",
   "execution_count": 14,
   "metadata": {
    "collapsed": true
   },
   "outputs": [],
   "source": [
    "category_90p = plot_pd[:46]"
   ]
  },
  {
   "cell_type": "code",
   "execution_count": 15,
   "metadata": {
    "collapsed": false
   },
   "outputs": [],
   "source": [
    "data_frame['category']= data_frame['category'].apply(lambda x:category_90p.index[random.randint(0,45)] \n",
    "                                                     if x not in category_90p.index else x)"
   ]
  },
  {
   "cell_type": "code",
   "execution_count": 16,
   "metadata": {
    "collapsed": false
   },
   "outputs": [
    {
     "name": "stdout",
     "output_type": "stream",
     "text": [
      "74\n"
     ]
    }
   ],
   "source": [
    "# let's do similar approach for merchant\n",
    "# of 697 merchant, 74 merchant constitute 70% of the entire table.\n",
    "# so let's randomly replace the 30% rest with 74 values\n",
    "\n",
    "counts = data_frame['merchant'].value_counts()\n",
    "plot_pd = pd.Series(counts.values, index=counts.index)\n",
    "plot_pd.sort_values(inplace=True, ascending=False)\n",
    "\n",
    "sum_ = 0\n",
    "i = 0\n",
    "while sum_<0.7*data_frame.shape[0]:\n",
    "    sum_ += plot_pd.values[i]\n",
    "    i += 1\n",
    "print(i)"
   ]
  },
  {
   "cell_type": "code",
   "execution_count": 17,
   "metadata": {
    "collapsed": true
   },
   "outputs": [],
   "source": [
    "merchant_70p = plot_pd[:74]"
   ]
  },
  {
   "cell_type": "code",
   "execution_count": 18,
   "metadata": {
    "collapsed": true
   },
   "outputs": [],
   "source": [
    "data_frame['merchant']= data_frame['merchant'].apply(lambda x:merchant_70p.index[random.randint(0,73)] \n",
    "                                                     if x not in merchant_70p.index else x)"
   ]
  },
  {
   "cell_type": "code",
   "execution_count": 19,
   "metadata": {
    "collapsed": true
   },
   "outputs": [],
   "source": [
    "# convert to binaries\n",
    "\n",
    "categorical_variables = ['category', 'merchant']\n",
    "\n",
    "for variable in categorical_variables:\n",
    "    dummies = pd.get_dummies(data_frame[variable], prefix=variable)\n",
    "    data_frame = pd.concat([data_frame, dummies], axis=1)\n",
    "    data_frame.drop([variable], axis=1, inplace=True)"
   ]
  },
  {
   "cell_type": "code",
   "execution_count": 20,
   "metadata": {
    "collapsed": true
   },
   "outputs": [],
   "source": [
    "y = data_frame.pop('click')"
   ]
  },
  {
   "cell_type": "code",
   "execution_count": null,
   "metadata": {
    "collapsed": true
   },
   "outputs": [],
   "source": [
    "rfc = RandomForestClassifier(n_estimators=400, max_features='sqrt', n_jobs=-1,\n",
    "                             criterion='entropy', oob_score=True, min_samples_leaf=50)"
   ]
  },
  {
   "cell_type": "code",
   "execution_count": null,
   "metadata": {
    "collapsed": true
   },
   "outputs": [],
   "source": [
    "rfc_model = rfc.fit(data_frame, y)"
   ]
  },
  {
   "cell_type": "code",
   "execution_count": null,
   "metadata": {
    "collapsed": true
   },
   "outputs": [],
   "source": [
    "import pickle\n",
    "import os\n",
    "with open('./trained_model', 'wb') as f:\n",
    "    pickle.dump(rfc_model, f)"
   ]
  },
  {
   "cell_type": "code",
   "execution_count": null,
   "metadata": {
    "collapsed": true
   },
   "outputs": [],
   "source": [
    "rfc_model.oob_score_"
   ]
  },
  {
   "cell_type": "code",
   "execution_count": 21,
   "metadata": {
    "collapsed": false
   },
   "outputs": [],
   "source": [
    "rfc_model = pickle.load(open('./trained_model', 'rb'))"
   ]
  },
  {
   "cell_type": "markdown",
   "metadata": {},
   "source": [
    "#### Reading & cleaning"
   ]
  },
  {
   "cell_type": "code",
   "execution_count": 22,
   "metadata": {
    "collapsed": false
   },
   "outputs": [],
   "source": [
    "test_frame = pd.read_csv('data/test.csv')"
   ]
  },
  {
   "cell_type": "code",
   "execution_count": 23,
   "metadata": {
    "collapsed": true
   },
   "outputs": [],
   "source": [
    "\n",
    "test_frame.drop(['siteid', 'offerid'], axis=1, inplace=True)\n",
    "\n",
    "# make two columns for day and hour from datetime\n",
    "test_frame['day']=pd.to_datetime(test_frame['datetime']).apply(lambda x: x.dayofweek)\n",
    "test_frame['hour']=pd.to_datetime(test_frame['datetime']).apply(lambda x: x.hour)\n",
    "test_frame.drop('datetime', axis=1, inplace=True)\n",
    "\n",
    "# replacing duplicates\n",
    "test_frame['browserid'].replace(to_replace=['Mozilla Firefox', 'Mozilla'], \n",
    "  value='Firefox', inplace=True) # Firefox\n",
    "test_frame['browserid'].replace(to_replace=['Google Chrome'], \n",
    "  value='Chrome', inplace=True) # Chrome\n",
    "test_frame['browserid'].replace(to_replace=['InternetExplorer', 'Internet Explorer'], \n",
    "  value='IE', inplace=True) # IE"
   ]
  },
  {
   "cell_type": "code",
   "execution_count": 24,
   "metadata": {
    "collapsed": true
   },
   "outputs": [],
   "source": [
    "# weekdays have high click rate, so let's break if it's weekdays or weekend\n",
    "test_frame['weekdays']=test_frame['day'].apply(lambda x:1 if x<5 else 0)\n",
    "\n",
    "test_frame.drop('day', axis=1, inplace=True)"
   ]
  },
  {
   "cell_type": "code",
   "execution_count": 25,
   "metadata": {
    "collapsed": true
   },
   "outputs": [],
   "source": [
    "# Most clicks are between 9am - 9pm, so I make it binary\n",
    "\n",
    "test_frame['daytime']=test_frame['hour'].apply(lambda x:1 if 9<=x<=21 else 0)\n",
    "\n",
    "test_frame.drop('hour', axis=1, inplace=True)"
   ]
  },
  {
   "cell_type": "code",
   "execution_count": 26,
   "metadata": {
    "collapsed": false
   },
   "outputs": [],
   "source": [
    "fill_click_dic = {'category': 6906,\n",
    " 'merchant': 99510044,\n",
    " 'countrycode': 'c',\n",
    " 'browserid': 'InternetExplorer',\n",
    " 'devid': 'Desktop'}"
   ]
  },
  {
   "cell_type": "code",
   "execution_count": 27,
   "metadata": {
    "collapsed": false
   },
   "outputs": [],
   "source": [
    "fill_no_click_dic = {'category': 40339,\n",
    " 'merchant': 99510044,\n",
    " 'countrycode': 'b',\n",
    " 'browserid': 'Edge',\n",
    " 'devid': 'Mobile'}"
   ]
  },
  {
   "cell_type": "code",
   "execution_count": 28,
   "metadata": {
    "collapsed": false
   },
   "outputs": [],
   "source": [
    "# find rows with nans\n",
    "\n",
    "nan_id = test_frame.apply(lambda x: x.name if True in pd.isnull(x).values else np.nan, axis=1)\n",
    "\n",
    "# then convert to a array\n",
    "\n",
    "nan_id.dropna(axis=0, inplace=True)\n",
    "\n",
    "nan_id = nan_id.values\n"
   ]
  },
  {
   "cell_type": "code",
   "execution_count": 29,
   "metadata": {
    "collapsed": false
   },
   "outputs": [
    {
     "data": {
      "text/plain": [
       "(884448,)"
      ]
     },
     "execution_count": 29,
     "metadata": {},
     "output_type": "execute_result"
    }
   ],
   "source": [
    "nan_id.shape"
   ]
  },
  {
   "cell_type": "code",
   "execution_count": 30,
   "metadata": {
    "collapsed": true
   },
   "outputs": [],
   "source": [
    "# put all nans in a seperate dataframe\n",
    "\n",
    "nan_test_frame = test_frame.iloc[nan_id.astype(np.int64)]\n"
   ]
  },
  {
   "cell_type": "code",
   "execution_count": 31,
   "metadata": {
    "collapsed": true
   },
   "outputs": [],
   "source": [
    "# make copy of for 0 clicks - One copy will be filled with most frequent values of class=1\n",
    "# and the other will be filled with most frequent values for class=0\n",
    "\n",
    "nan_test_frame_0 = nan_test_frame.copy()"
   ]
  },
  {
   "cell_type": "code",
   "execution_count": 32,
   "metadata": {
    "collapsed": true
   },
   "outputs": [],
   "source": [
    "# dropping nans from the test_frame\n",
    "\n",
    "test_frame = test_frame.drop(nan_id.astype(np.int64))\n"
   ]
  },
  {
   "cell_type": "code",
   "execution_count": 33,
   "metadata": {
    "collapsed": false
   },
   "outputs": [],
   "source": [
    "# filling with most frequenct clicked and non-clicked values for each col\n",
    "\n",
    "columns = ['category' ,'merchant' ,'countrycode' ,'browserid' ,'devid']\n",
    "\n",
    "for col in columns:\n",
    "    nan_test_frame[col].fillna(value=fill_click_dic[col], inplace=True)\n",
    "    nan_test_frame_0[col].fillna(value=fill_no_click_dic[col], inplace=True)"
   ]
  },
  {
   "cell_type": "code",
   "execution_count": 34,
   "metadata": {
    "collapsed": true
   },
   "outputs": [],
   "source": [
    "# convert to binaries\n",
    "\n",
    "categorical_variables = ['countrycode', 'browserid', 'devid']\n",
    "\n",
    "for variable in categorical_variables:\n",
    "    dummies = pd.get_dummies(test_frame[variable], prefix=variable)\n",
    "    test_frame = pd.concat([test_frame, dummies], axis=1)\n",
    "    test_frame.drop([variable], axis=1, inplace=True)\n",
    "    \n",
    "for variable in categorical_variables:\n",
    "    dummies = pd.get_dummies(nan_test_frame[variable], prefix=variable)\n",
    "    nan_test_frame = pd.concat([nan_test_frame, dummies], axis=1)\n",
    "    nan_test_frame.drop([variable], axis=1, inplace=True)\n",
    "    \n",
    "for variable in categorical_variables:\n",
    "    dummies = pd.get_dummies(nan_test_frame_0[variable], prefix=variable)\n",
    "    nan_test_frame_0 = pd.concat([nan_test_frame_0, dummies], axis=1)\n",
    "    nan_test_frame_0.drop([variable], axis=1, inplace=True)\n",
    "    "
   ]
  },
  {
   "cell_type": "code",
   "execution_count": 35,
   "metadata": {
    "collapsed": false
   },
   "outputs": [],
   "source": [
    "# top most frequent values in category and merchant to replace others\n",
    "test_frame['category']= test_frame['category'].apply(lambda x:category_90p.index[random.randint(0,45)] \n",
    "                                                     if x not in category_90p.index else x)\n",
    "\n",
    "nan_test_frame['category']= nan_test_frame['category'].apply(lambda x:category_90p.index[random.randint(0,45)] \n",
    "                                                     if x not in category_90p.index else x)\n",
    "\n",
    "nan_test_frame_0['category']= nan_test_frame_0['category'].apply(lambda x:category_90p.index[random.randint(0,45)] \n",
    "                                                     if x not in category_90p.index else x)"
   ]
  },
  {
   "cell_type": "code",
   "execution_count": 36,
   "metadata": {
    "collapsed": true
   },
   "outputs": [],
   "source": [
    "# let's do for merchant too\n",
    "\n",
    "test_frame['merchant']= test_frame['merchant'].apply(lambda x:merchant_70p.index[random.randint(0,73)] \n",
    "                                                     if x not in merchant_70p.index else x)\n",
    "\n",
    "nan_test_frame['merchant']= nan_test_frame['merchant'].apply(lambda x:merchant_70p.index[random.randint(0,73)] \n",
    "                                                     if x not in merchant_70p.index else x)\n",
    "\n",
    "nan_test_frame_0['merchant']= nan_test_frame_0['merchant'].apply(lambda x:merchant_70p.index[random.randint(0,73)] \n",
    "                                                     if x not in merchant_70p.index else x)"
   ]
  },
  {
   "cell_type": "code",
   "execution_count": 37,
   "metadata": {
    "collapsed": true
   },
   "outputs": [],
   "source": [
    "# convert to binaries\n",
    "\n",
    "categorical_variables = ['category', 'merchant']\n",
    "\n",
    "for variable in categorical_variables:\n",
    "    dummies = pd.get_dummies(test_frame[variable], prefix=variable)\n",
    "    test_frame = pd.concat([test_frame, dummies], axis=1)\n",
    "    test_frame.drop([variable], axis=1, inplace=True)\n",
    "    \n",
    "for variable in categorical_variables:\n",
    "    dummies = pd.get_dummies(nan_test_frame[variable], prefix=variable)\n",
    "    nan_test_frame = pd.concat([nan_test_frame, dummies], axis=1)\n",
    "    nan_test_frame.drop([variable], axis=1, inplace=True)\n",
    "    \n",
    "for variable in categorical_variables:\n",
    "    dummies = pd.get_dummies(nan_test_frame_0[variable], prefix=variable)\n",
    "    nan_test_frame_0 = pd.concat([nan_test_frame_0, dummies], axis=1)\n",
    "    nan_test_frame_0.drop([variable], axis=1, inplace=True)\n",
    "    "
   ]
  },
  {
   "cell_type": "code",
   "execution_count": 38,
   "metadata": {
    "collapsed": false
   },
   "outputs": [],
   "source": [
    "# drop IDs\n",
    "test_frame_ids = test_frame.pop('ID')\n",
    "nan_test_frame_ids = nan_test_frame.pop('ID')\n",
    "nan_test_frame_0_ids = nan_test_frame_0.pop('ID')"
   ]
  },
  {
   "cell_type": "code",
   "execution_count": 39,
   "metadata": {
    "collapsed": true
   },
   "outputs": [],
   "source": [
    "# make columns match\n",
    "base = data_frame.columns"
   ]
  },
  {
   "cell_type": "code",
   "execution_count": 40,
   "metadata": {
    "collapsed": true
   },
   "outputs": [],
   "source": [
    "# test frame doesn't have any browserid_desktop and Mobile let's fill with 0 then\n",
    "\n",
    "test_frame['browserid_Desktop']=0\n",
    "test_frame['browserid_Mobile']=0\n",
    "test_frame = test_frame[base]"
   ]
  },
  {
   "cell_type": "code",
   "execution_count": 41,
   "metadata": {
    "collapsed": true
   },
   "outputs": [],
   "source": [
    "nan_test_frame['browserid_Desktop']=0\n",
    "nan_test_frame['browserid_Mobile']=0\n",
    "nan_test_frame = nan_test_frame[base]\n",
    "\n",
    "nan_test_frame_0['browserid_Desktop']=0\n",
    "nan_test_frame_0['browserid_Mobile']=0\n",
    "nan_test_frame_0 = nan_test_frame_0[base]"
   ]
  },
  {
   "cell_type": "code",
   "execution_count": 42,
   "metadata": {
    "collapsed": false
   },
   "outputs": [],
   "source": [
    "y_test = rfc_model.predict_proba(test_frame)"
   ]
  },
  {
   "cell_type": "code",
   "execution_count": 43,
   "metadata": {
    "collapsed": true
   },
   "outputs": [],
   "source": [
    "y_nan_test = rfc_model.predict_proba(nan_test_frame)\n",
    "y_nan_test_0 = rfc_model.predict_proba(nan_test_frame_0)\n",
    "\n",
    "pred_nan_test = rfc_model.predict(nan_test_frame)\n",
    "pred_nan_test_0 = rfc_model.predict(nan_test_frame_0)\n",
    "\n"
   ]
  },
  {
   "cell_type": "code",
   "execution_count": 151,
   "metadata": {
    "collapsed": false
   },
   "outputs": [],
   "source": [
    "def save_test_results(ID, y, file_name):\n",
    "    subm_frame = pd.DataFrame(y, index=ID.ravel(), columns=['click'])\n",
    "    subm_frame.index.name = 'ID'\n",
    "    subm_frame.to_csv('data/' + file_name)\n",
    "    \n",
    "    return subm_frame\n",
    "\n",
    "\n",
    "# save results for submission\n",
    "\n",
    "IDs = test_frame_ids.append(nan_test_frame_0_ids)\n",
    "y_pred = np.append(y_test[:,1], y_nan_test_0[:,1])\n",
    "\n",
    "\n",
    "subm_model = save_test_results(IDs, y_pred, 'submit_aug10_2.csv')"
   ]
  },
  {
   "cell_type": "markdown",
   "metadata": {},
   "source": [
    "#### This was the end. From below I just want to see which filling for NANs had the most votes among trees. Looks like they gave similar."
   ]
  },
  {
   "cell_type": "code",
   "execution_count": 44,
   "metadata": {
    "collapsed": false
   },
   "outputs": [],
   "source": [
    "# we need to know the majority vote for those who have different prediction\n",
    "# among 400 trees, we will examine which class has the highest vote. \n",
    "\n",
    "trees = rfc_model.estimators_"
   ]
  },
  {
   "cell_type": "code",
   "execution_count": 45,
   "metadata": {
    "collapsed": false
   },
   "outputs": [],
   "source": [
    "# finding indecies that are different\n",
    "\n",
    "ind_diff = []\n",
    "for i in range(len(pred_nan_test)):\n",
    "    if pred_nan_test[i]!=pred_nan_test_0[i]:\n",
    "        ind_diff.append(i)\n",
    " "
   ]
  },
  {
   "cell_type": "code",
   "execution_count": 46,
   "metadata": {
    "collapsed": false
   },
   "outputs": [],
   "source": [
    "diff_test_frame = nan_test_frame.iloc[ind_diff]\n",
    "diff_test_frame_0 = nan_test_frame_0.iloc[ind_diff]"
   ]
  },
  {
   "cell_type": "code",
   "execution_count": 59,
   "metadata": {
    "collapsed": true
   },
   "outputs": [],
   "source": [
    "# prediction of each tree on the test_frame_filled_with most frequenct click\n",
    "trees_pred = []\n",
    "for tree in trees:\n",
    "    trees_pred.append(tree.predict(nan_test_frame))\n",
    "\n",
    "    \n",
    "# prediction of each tree on the test_frame_filled_with most frequenct non-click\n",
    "trees_pred_0 = []\n",
    "for tree in trees:\n",
    "    trees_pred_0.append(tree.predict(nan_test_frame_0))\n",
    "    \n",
    "\n",
    "trees_pred = np.array(trees_pred)\n",
    "trees_pred_0 = np.array(trees_pred_0)"
   ]
  },
  {
   "cell_type": "code",
   "execution_count": 62,
   "metadata": {
    "collapsed": false
   },
   "outputs": [
    {
     "data": {
      "text/plain": [
       "(400, 884448)"
      ]
     },
     "execution_count": 62,
     "metadata": {},
     "output_type": "execute_result"
    }
   ],
   "source": [
    "trees_pred.shape"
   ]
  },
  {
   "cell_type": "code",
   "execution_count": 102,
   "metadata": {
    "collapsed": true
   },
   "outputs": [],
   "source": [
    "click_votes = np.sum(trees_pred, axis=0)\n",
    "click_no_votes = 400 - click_votes\n",
    "\n",
    "click_votes_0 = np.sum(trees_pred, axis=0)\n",
    "click_no_votes_0 = 400 - click_votes\n"
   ]
  },
  {
   "cell_type": "code",
   "execution_count": 105,
   "metadata": {
    "collapsed": false
   },
   "outputs": [],
   "source": [
    "# [filled_with_max_click_vote_yes, filled_with_max_click_vote_no,\n",
    "# filled_with_max_not_click_vote_yes, filled_with_max_not_click_vote_no]\n",
    "\n",
    "votes_mat = np.array([click_votes, click_no_votes, click_votes_0, click_no_votes_0])"
   ]
  },
  {
   "cell_type": "code",
   "execution_count": 106,
   "metadata": {
    "collapsed": false
   },
   "outputs": [],
   "source": [
    "index_max_votes = np.argmax(votes_mat, axis=0)"
   ]
  },
  {
   "cell_type": "code",
   "execution_count": null,
   "metadata": {
    "collapsed": true
   },
   "outputs": [],
   "source": []
  },
  {
   "cell_type": "code",
   "execution_count": null,
   "metadata": {
    "collapsed": true
   },
   "outputs": [],
   "source": []
  }
 ],
 "metadata": {
  "kernelspec": {
   "display_name": "Python 3",
   "language": "python",
   "name": "python3"
  },
  "language_info": {
   "codemirror_mode": {
    "name": "ipython",
    "version": 3
   },
   "file_extension": ".py",
   "mimetype": "text/x-python",
   "name": "python",
   "nbconvert_exporter": "python",
   "pygments_lexer": "ipython3",
   "version": "3.6.0"
  }
 },
 "nbformat": 4,
 "nbformat_minor": 2
}
